{
 "cells": [
  {
   "cell_type": "code",
   "execution_count": 1,
   "metadata": {},
   "outputs": [],
   "source": [
    "\n",
    "from pyspark.sql import SparkSession"
   ]
  },
  {
   "cell_type": "code",
   "execution_count": 2,
   "metadata": {},
   "outputs": [
    {
     "name": "stderr",
     "output_type": "stream",
     "text": [
      "log4j:ERROR Could not read configuration file from URL [file:log4j.properties].\n",
      "java.io.FileNotFoundException: log4j.properties (No such file or directory)\n",
      "\tat java.io.FileInputStream.open0(Native Method)\n",
      "\tat java.io.FileInputStream.open(FileInputStream.java:195)\n",
      "\tat java.io.FileInputStream.<init>(FileInputStream.java:138)\n",
      "\tat java.io.FileInputStream.<init>(FileInputStream.java:93)\n",
      "\tat sun.net.www.protocol.file.FileURLConnection.connect(FileURLConnection.java:90)\n",
      "\tat sun.net.www.protocol.file.FileURLConnection.getInputStream(FileURLConnection.java:188)\n",
      "\tat org.apache.log4j.PropertyConfigurator.doConfigure(PropertyConfigurator.java:557)\n",
      "\tat org.apache.log4j.helpers.OptionConverter.selectAndConfigure(OptionConverter.java:526)\n",
      "\tat org.apache.log4j.LogManager.<clinit>(LogManager.java:127)\n",
      "\tat org.slf4j.impl.Log4jLoggerFactory.<init>(Log4jLoggerFactory.java:66)\n",
      "\tat org.slf4j.impl.StaticLoggerBinder.<init>(StaticLoggerBinder.java:72)\n",
      "\tat org.slf4j.impl.StaticLoggerBinder.<clinit>(StaticLoggerBinder.java:45)\n",
      "\tat org.apache.spark.internal.Logging$.org$apache$spark$internal$Logging$$isLog4j12(Logging.scala:222)\n",
      "\tat org.apache.spark.internal.Logging.initializeLogging(Logging.scala:127)\n",
      "\tat org.apache.spark.internal.Logging.initializeLogIfNecessary(Logging.scala:111)\n",
      "\tat org.apache.spark.internal.Logging.initializeLogIfNecessary$(Logging.scala:105)\n",
      "\tat org.apache.spark.deploy.SparkSubmit.initializeLogIfNecessary(SparkSubmit.scala:75)\n",
      "\tat org.apache.spark.deploy.SparkSubmit.doSubmit(SparkSubmit.scala:83)\n",
      "\tat org.apache.spark.deploy.SparkSubmit$$anon$2.doSubmit(SparkSubmit.scala:1039)\n",
      "\tat org.apache.spark.deploy.SparkSubmit$.main(SparkSubmit.scala:1048)\n",
      "\tat org.apache.spark.deploy.SparkSubmit.main(SparkSubmit.scala)\n",
      "log4j:ERROR Ignoring configuration file [file:log4j.properties].\n",
      "22/07/05 19:09:32 WARN Utils: Your hostname, MSI resolves to a loopback address: 127.0.1.1; using 172.17.173.0 instead (on interface eth0)\n",
      "22/07/05 19:09:32 WARN Utils: Set SPARK_LOCAL_IP if you need to bind to another address\n",
      "22/07/05 19:09:40 WARN NativeCodeLoader: Unable to load native-hadoop library for your platform... using builtin-java classes where applicable\n",
      "Using Spark's default log4j profile: org/apache/spark/log4j-defaults.properties\n",
      "Setting default log level to \"WARN\".\n",
      "To adjust logging level use sc.setLogLevel(newLevel). For SparkR, use setLogLevel(newLevel).\n"
     ]
    }
   ],
   "source": [
    "spark = SparkSession.builder \\\n",
    "    .appName('data_exploration') \\\n",
    "    .master('local[3]') \\\n",
    "    .enableHiveSupport() \\\n",
    "    .getOrCreate()"
   ]
  },
  {
   "cell_type": "code",
   "execution_count": 3,
   "metadata": {},
   "outputs": [
    {
     "name": "stderr",
     "output_type": "stream",
     "text": [
      "                                                                                \r"
     ]
    }
   ],
   "source": [
    "\"\"\"creation of a dataframe from the CSV file. \n",
    "Since there are too many columns we are going to inferSchema for now and fix any columns which donot have the proper schema\"\"\"\n",
    "gt_df = spark.read \\\n",
    "        .format('csv') \\\n",
    "        .option('header', 'True') \\\n",
    "        .option('inferSchema', 'True') \\\n",
    "        .load('data/globalterrorism1970-2017.csv')"
   ]
  },
  {
   "cell_type": "code",
   "execution_count": 11,
   "metadata": {},
   "outputs": [
    {
     "name": "stderr",
     "output_type": "stream",
     "text": [
      "                                                                                \r"
     ]
    }
   ],
   "source": [
    "#partition the source csv because the source csv is bigger than github allows.\n",
    "gt_df.write \\\n",
    "    .format('csv') \\\n",
    "    .mode('overwrite') \\\n",
    "    .option('path', 'data/globalTerrorismParted') \\\n",
    "    .partitionBy('country_txt') \\\n",
    "    .save()\n",
    "    "
   ]
  },
  {
   "cell_type": "code",
   "execution_count": 9,
   "metadata": {},
   "outputs": [
    {
     "name": "stderr",
     "output_type": "stream",
     "text": [
      "22/07/05 20:17:26 WARN HiveConf: HiveConf of name hive.stats.jdbc.timeout does not exist\n",
      "22/07/05 20:17:26 WARN HiveConf: HiveConf of name hive.stats.retries.wait does not exist\n",
      "22/07/05 20:17:29 WARN ObjectStore: Version information not found in metastore. hive.metastore.schema.verification is not enabled so recording the schema version 2.3.0\n",
      "22/07/05 20:17:29 WARN ObjectStore: setMetaStoreSchemaVersion called but recording version is disabled: version = 2.3.0, comment = Set by MetaStore avinash@127.0.1.1\n",
      "22/07/05 20:17:29 WARN ObjectStore: Failed to get database default, returning NoSuchObjectException\n",
      "22/07/05 20:17:29 WARN ObjectStore: Failed to get database global_temp, returning NoSuchObjectException\n",
      "22/07/05 20:17:29 WARN ObjectStore: Failed to get database globalterrorism, returning NoSuchObjectException\n",
      "22/07/05 20:17:30 WARN package: Truncated the string representation of a plan since it was too large. This behavior can be adjusted by setting 'spark.sql.debug.maxToStringFields'.\n",
      "22/07/05 20:17:36 WARN SessionState: METASTORE_FILTER_HOOK will be ignored, since hive.security.authorization.manager is set to instance of HiveAuthorizerFactory.\n",
      "22/07/05 20:17:36 WARN HiveConf: HiveConf of name hive.internal.ss.authz.settings.applied.marker does not exist\n",
      "22/07/05 20:17:36 WARN HiveConf: HiveConf of name hive.stats.jdbc.timeout does not exist\n",
      "22/07/05 20:17:36 WARN HiveConf: HiveConf of name hive.stats.retries.wait does not exist\n"
     ]
    }
   ],
   "source": [
    "\"\"\"I am going to parition this dataframe now. \n",
    "Since i have multithreaded my spark session its better to create partitions so each thread can simultaneously process data.\n",
    "I am going to use bucketing to achieve this\"\"\"\n",
    "#just like any database we first have to create a database and select it for us to use it \n",
    "spark.sql('CREATE DATABASE IF NOT EXISTS globalTerrorism')\n",
    "spark.catalog.setCurrentDatabase('globalTerrorism')\n",
    "partitioned_gt_table = gt_df.write \\\n",
    "    .format('parquet') \\\n",
    "    .mode('overwrite') \\\n",
    "    .bucketBy(1, 'country_txt', 'iyear') \\\n",
    "    .saveAsTable('globalTerrorismTbl')\n"
   ]
  },
  {
   "cell_type": "code",
   "execution_count": 14,
   "metadata": {},
   "outputs": [
    {
     "name": "stdout",
     "output_type": "stream",
     "text": [
      "+--------------------+----------------------+\n",
      "|     attacktype1_txt|count(attacktype1_txt)|\n",
      "+--------------------+----------------------+\n",
      "|                   7|                    52|\n",
      "|       Armed Assault|                 42566|\n",
      "| the Red Hand Def...|                     1|\n",
      "|     Unarmed Assault|                  1003|\n",
      "|          the choice|                     1|\n",
      "|                   3|                    56|\n",
      "|                   8|                     5|\n",
      "|                   0|                   167|\n",
      "|                null|                     0|\n",
      "|         and as such|                     1|\n",
      "| he did manage to...|                     1|\n",
      "|                   5|                     2|\n",
      "|Hostage Taking (B...|                   989|\n",
      "|           Hijacking|                   657|\n",
      "|Hostage Taking (K...|                 11115|\n",
      "|                   6|                    16|\n",
      "|             Unknown|                  7267|\n",
      "| have been shifte...|                     1|\n",
      "|      Anwar Abu Zaid|                     1|\n",
      "|    Other Crime Type|                     1|\n",
      "+--------------------+----------------------+\n",
      "only showing top 20 rows\n",
      "\n"
     ]
    }
   ],
   "source": [
    "spark.sql('select attacktype1_txt, count(attacktype1_txt) from globalTerrorismTbl GROUP BY attacktype1_txt').show()\n",
    "\n",
    "#this table is supposed to be all strings and some numbers have crept in. Also there are some unwanted strings. Lets Try to process this properly"
   ]
  },
  {
   "cell_type": "code",
   "execution_count": null,
   "metadata": {},
   "outputs": [],
   "source": []
  }
 ],
 "metadata": {
  "kernelspec": {
   "display_name": "Python 3.8.13 ('Pyspark')",
   "language": "python",
   "name": "python3"
  },
  "language_info": {
   "codemirror_mode": {
    "name": "ipython",
    "version": 3
   },
   "file_extension": ".py",
   "mimetype": "text/x-python",
   "name": "python",
   "nbconvert_exporter": "python",
   "pygments_lexer": "ipython3",
   "version": "3.8.13"
  },
  "orig_nbformat": 4,
  "vscode": {
   "interpreter": {
    "hash": "d20379a6bb27cd7557f093d442a541704bd712196c15138397f9bc5645b86a80"
   }
  }
 },
 "nbformat": 4,
 "nbformat_minor": 2
}
